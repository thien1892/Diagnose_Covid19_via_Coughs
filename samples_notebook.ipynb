{
 "cells": [
  {
   "cell_type": "code",
   "execution_count": 1,
   "source": [
    "import sys\r\n",
    "import os\r\n",
    "sys.path.insert(1, 'modules/')\r\n",
    "os.environ['TFHUB_CACHE_DIR'] = '/home/user/workspace/tf_cache'\r\n",
    "from example_feature import *\r\n",
    "from example_file import make_acoustic_feat, mask_acoustic_feat\r\n",
    "sys.path.insert(1, 'configs/')\r\n",
    "from example_config import Config"
   ],
   "outputs": [],
   "metadata": {}
  },
  {
   "cell_type": "markdown",
   "source": [
    "# Load file audio and extract features:"
   ],
   "metadata": {}
  },
  {
   "cell_type": "code",
   "execution_count": 2,
   "source": [
    "path_file = 'data//example_aicv115m_final_private_test//private_test_audio_files//1b432e7b-cbbe-4f02-9cf1-e38067c68b30.wav'"
   ],
   "outputs": [],
   "metadata": {}
  },
  {
   "cell_type": "code",
   "execution_count": 3,
   "source": [
    "# file is cough or no_cough\r\n",
    "mask_X = mask_acoustic_feat(path_file)"
   ],
   "outputs": [],
   "metadata": {}
  },
  {
   "cell_type": "code",
   "execution_count": 4,
   "source": [
    "# extract features\r\n",
    "X = make_acoustic_feat(path_file)"
   ],
   "outputs": [],
   "metadata": {}
  },
  {
   "cell_type": "markdown",
   "source": [
    "# Load model and predict:"
   ],
   "metadata": {}
  },
  {
   "cell_type": "code",
   "execution_count": 5,
   "source": [
    "import joblib\r\n",
    "model = joblib.load(str(Config.WEIGHT_PATH / \"example_model.h5\"))"
   ],
   "outputs": [],
   "metadata": {}
  },
  {
   "cell_type": "code",
   "execution_count": 6,
   "source": [
    "y_predict = model.predict_proba(X)\r\n",
    "y_predict = np.where(mask_X == True, y_predict, 0)"
   ],
   "outputs": [],
   "metadata": {}
  },
  {
   "cell_type": "code",
   "execution_count": 7,
   "source": [
    "y_predict[0][1]"
   ],
   "outputs": [
    {
     "output_type": "execute_result",
     "data": {
      "text/plain": [
       "0.0023367684"
      ]
     },
     "metadata": {},
     "execution_count": 7
    }
   ],
   "metadata": {}
  }
 ],
 "metadata": {
  "orig_nbformat": 4,
  "language_info": {
   "name": "python",
   "version": "3.8.0",
   "mimetype": "text/x-python",
   "codemirror_mode": {
    "name": "ipython",
    "version": 3
   },
   "pygments_lexer": "ipython3",
   "nbconvert_exporter": "python",
   "file_extension": ".py"
  },
  "kernelspec": {
   "name": "python3",
   "display_name": "Python 3.8.0 64-bit"
  },
  "interpreter": {
   "hash": "d2623cced875dcacf17ebc5171cc93dd2025d8fbab036215a9693031c0ddd070"
  }
 },
 "nbformat": 4,
 "nbformat_minor": 2
}